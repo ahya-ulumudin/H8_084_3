{
 "cells": [
  {
   "cell_type": "code",
   "execution_count": 1,
   "id": "503c2460",
   "metadata": {},
   "outputs": [],
   "source": [
    "def function_name( parameters ):\n",
    "   \"docstring\"\n",
    "   statement(s)"
   ]
  },
  {
   "cell_type": "code",
   "execution_count": 2,
   "id": "6782d8c9",
   "metadata": {},
   "outputs": [],
   "source": [
    "def printme( str ):\n",
    "   \"This prints a passed string into this function\"\n",
    "   print(str)\n",
    "   return"
   ]
  },
  {
   "cell_type": "code",
   "execution_count": 3,
   "id": "1e29dcce",
   "metadata": {},
   "outputs": [
    {
     "name": "stdout",
     "output_type": "stream",
     "text": [
      "I'm first call to user defined function!\n",
      "Again second call to the same function\n"
     ]
    }
   ],
   "source": [
    "# Function definition is here\n",
    "def printme( str ):\n",
    "   \"This prints a passed string into this function\"\n",
    "   print(str)\n",
    "   return;\n",
    "\n",
    "# Now you can call printme function\n",
    "printme(\"I'm first call to user defined function!\")\n",
    "printme(\"Again second call to the same function\")"
   ]
  },
  {
   "cell_type": "code",
   "execution_count": 4,
   "id": "12718101",
   "metadata": {},
   "outputs": [
    {
     "name": "stdout",
     "output_type": "stream",
     "text": [
      "Values inside the function:  [10, 20, 30, [1, 2, 3, 4]]\n",
      "Values outside the function:  [10, 20, 30, [1, 2, 3, 4]]\n"
     ]
    }
   ],
   "source": [
    "# Function definition is here\n",
    "def changeme( mylist ):\n",
    "   \"This changes a passed list into this function\"\n",
    "   mylist.append([1,2,3,4]);\n",
    "   print(\"Values inside the function: \", mylist)\n",
    "   return\n",
    "\n",
    "# Now you can call changeme function\n",
    "mylist = [10,20,30];\n",
    "changeme( mylist );\n",
    "print(\"Values outside the function: \", mylist)"
   ]
  },
  {
   "cell_type": "code",
   "execution_count": 5,
   "id": "0f31f754",
   "metadata": {},
   "outputs": [
    {
     "name": "stdout",
     "output_type": "stream",
     "text": [
      "Values inside the function:  [1, 2, 3, 4]\n",
      "Values outside the function:  [10, 20, 30]\n"
     ]
    }
   ],
   "source": [
    "# Function definition is here\n",
    "def changeme( mylist ):\n",
    "   \"This changes a passed list into this function\"\n",
    "   mylist = [1,2,3,4]; # This would assig new reference in mylist\n",
    "   print(\"Values inside the function: \", mylist)\n",
    "   return\n",
    "\n",
    "# Now you can call changeme function\n",
    "mylist = [10,20,30];\n",
    "changeme( mylist );\n",
    "print(\"Values outside the function: \", mylist)"
   ]
  },
  {
   "cell_type": "code",
   "execution_count": 6,
   "id": "16c4f90c",
   "metadata": {},
   "outputs": [
    {
     "ename": "TypeError",
     "evalue": "printme() missing 1 required positional argument: 'str'",
     "output_type": "error",
     "traceback": [
      "\u001b[1;31m---------------------------------------------------------------------------\u001b[0m",
      "\u001b[1;31mTypeError\u001b[0m                                 Traceback (most recent call last)",
      "Input \u001b[1;32mIn [6]\u001b[0m, in \u001b[0;36m<cell line: 8>\u001b[1;34m()\u001b[0m\n\u001b[0;32m      5\u001b[0m    \u001b[38;5;28;01mreturn\u001b[39;00m;\n\u001b[0;32m      7\u001b[0m \u001b[38;5;66;03m# Now you can call printme function\u001b[39;00m\n\u001b[1;32m----> 8\u001b[0m \u001b[43mprintme\u001b[49m\u001b[43m(\u001b[49m\u001b[43m)\u001b[49m\n",
      "\u001b[1;31mTypeError\u001b[0m: printme() missing 1 required positional argument: 'str'"
     ]
    }
   ],
   "source": [
    "# Function definition is here\n",
    "def printme( str ):\n",
    "   \"This prints a passed string into this function\"\n",
    "   print(str)\n",
    "   return;\n",
    "\n",
    "# Now you can call printme function\n",
    "printme()"
   ]
  },
  {
   "cell_type": "code",
   "execution_count": 7,
   "id": "fc7abe9c",
   "metadata": {},
   "outputs": [
    {
     "name": "stdout",
     "output_type": "stream",
     "text": [
      "Hacktiv8\n"
     ]
    }
   ],
   "source": [
    "# Function definition is here\n",
    "def printme( str ):\n",
    "   \"This prints a passed string into this function\"\n",
    "   print(str)\n",
    "   return;\n",
    "\n",
    "# Now you can call printme function\n",
    "printme(str = \"Hacktiv8\")"
   ]
  },
  {
   "cell_type": "code",
   "execution_count": 8,
   "id": "b5c4646e",
   "metadata": {},
   "outputs": [
    {
     "name": "stdout",
     "output_type": "stream",
     "text": [
      "Name:  a\n",
      "Age:  4\n"
     ]
    }
   ],
   "source": [
    "# Function definition is here\n",
    "def printinfo( name, age ):\n",
    "   \"This prints a passed info into this function\"\n",
    "   print(\"Name: \", name)\n",
    "   print(\"Age: \", age)\n",
    "   return;\n",
    "\n",
    "# Now you can call printinfo function\n",
    "printinfo( age=4, name=\"a\" )"
   ]
  },
  {
   "cell_type": "code",
   "execution_count": 9,
   "id": "59ac7c88",
   "metadata": {},
   "outputs": [
    {
     "name": "stdout",
     "output_type": "stream",
     "text": [
      "Name:  hacktiv8\n",
      "Age:  50\n",
      "Name:  hacktiv\n",
      "Age:  26\n"
     ]
    }
   ],
   "source": [
    "# Function definition is here\n",
    "def printinfo( name, age = 26 ):\n",
    "   \"This prints a passed info into this function\"\n",
    "   print(\"Name: \", name)\n",
    "   print(\"Age: \", age)\n",
    "   return;\n",
    "\n",
    "# Now you can call printinfo function\n",
    "printinfo( age=50, name=\"hacktiv8\" )\n",
    "printinfo( name=\"hacktiv\" )"
   ]
  },
  {
   "cell_type": "code",
   "execution_count": 32,
   "id": "c1bb2556",
   "metadata": {},
   "outputs": [
    {
     "name": "stdout",
     "output_type": "stream",
     "text": [
      "Output is: \n",
      "10\n",
      "Output is: \n",
      "70\n",
      "60\n"
     ]
    }
   ],
   "source": [
    "# Function definition is here\n",
    "def printinfo( arg1, *vartuple ):\n",
    "    \"This prints a variable passed arguments\"\n",
    "    print(\"Output is: \")\n",
    "    print(arg1)\n",
    "    for var in vartuple:\n",
    "        print(var)\n",
    "        return;\n",
    "    \n",
    "# Now you can call printinfo function\n",
    "printinfo( 10 )\n",
    "printinfo( 70, 60, 50, \"a\" )"
   ]
  },
  {
   "cell_type": "code",
   "execution_count": 35,
   "id": "6b0b78f4",
   "metadata": {},
   "outputs": [
    {
     "name": "stdout",
     "output_type": "stream",
     "text": [
      "Value of total :  200\n",
      "Value of total :  400\n"
     ]
    }
   ],
   "source": [
    "# Function definition is here\n",
    "sum = lambda arg1, arg2: arg1 * arg2;\n",
    "\n",
    "#def sum (arg1, arg2):\n",
    "#    arg1 + arg2\n",
    "    \n",
    "# Now you can call sum as a function\n",
    "print(\"Value of total : \", sum( 10, 20 ))\n",
    "print(\"Value of total : \", sum( 20, 20 ))"
   ]
  },
  {
   "cell_type": "code",
   "execution_count": 44,
   "id": "5fbb8d4f",
   "metadata": {},
   "outputs": [
    {
     "name": "stdout",
     "output_type": "stream",
     "text": [
      "Outside the function :  40\n"
     ]
    }
   ],
   "source": [
    "# Function definition is here\n",
    "def sum(arg1, arg2):\n",
    "    # Add both the parameters and return them.\"\n",
    "    total = arg1 + arg2\n",
    "    total2 = total + arg1\n",
    "    print(\"Inside the function : \", total)\n",
    "    return total2\n",
    "\n",
    "# Now you can call sum function\n",
    "\n",
    "print(\"Outside the function : \", total)\n",
    "    total = sum(10, 20)"
   ]
  },
  {
   "cell_type": "code",
   "execution_count": 46,
   "id": "6af35cc3",
   "metadata": {},
   "outputs": [
    {
     "ename": "IndentationError",
     "evalue": "expected an indented block (78534865.py, line 11)",
     "output_type": "error",
     "traceback": [
      "\u001b[1;36m  Input \u001b[1;32mIn [46]\u001b[1;36m\u001b[0m\n\u001b[1;33m    sum( 10, 20 );\u001b[0m\n\u001b[1;37m    ^\u001b[0m\n\u001b[1;31mIndentationError\u001b[0m\u001b[1;31m:\u001b[0m expected an indented block\n"
     ]
    }
   ],
   "source": [
    "total = 0; \n",
    "\n",
    "def sum( arg1, arg2 ):\n",
    "    total = arg1 + arg2; \n",
    "    print(\"Inside the function local total : \", total)\n",
    "    return total;\n",
    "\n",
    "def min():\n",
    "sum( 10, 20 );\n",
    "print(\"Outside the function global total : \", total)"
   ]
  },
  {
   "cell_type": "code",
   "execution_count": 47,
   "id": "7cf26822",
   "metadata": {},
   "outputs": [
    {
     "data": {
      "text/plain": [
       "40"
      ]
     },
     "execution_count": 47,
     "metadata": {},
     "output_type": "execute_result"
    }
   ],
   "source": [
    "jumlahKucing = 20\n",
    "\n",
    "def jumlahHewan():\n",
    "    jumlahAnjing = 30\n",
    "    return jumlahKucing + jumlahAnjing\n",
    "\n",
    "def jumlahKelinci():\n",
    "    return jumlahKucing + jumlahKucing\n",
    "\n",
    "jumlahHewan()\n",
    "jumlahKelinci()"
   ]
  },
  {
   "cell_type": "code",
   "execution_count": 124,
   "id": "4e704ebd",
   "metadata": {},
   "outputs": [
    {
     "name": "stdout",
     "output_type": "stream",
     "text": [
      "Program Mengecek Angka Ganjil atau Genap by AHYA\n",
      "Input Angka : 9\n",
      "Angka 9 merupakan angka Ganjil.\n"
     ]
    }
   ],
   "source": [
    "print(\"Program Mengecek Angka Ganjil atau Genap by AHYA\")\n",
    "#Input Angka\n",
    "angka = int(input(\"Input Angka : \"))\n",
    "#Pengecekan Angka\n",
    "while (angka > 0):\n",
    "    if(angka % 2 == 0):\n",
    "        print(\"Angka\", angka, \"merupakan angka Genap.\")\n",
    "    if(angka % 2 > 0):\n",
    "        print(\"Angka\", angka, \"merupakan angka Ganjil.\")\n",
    "    break\n",
    "    \n",
    "if (angka == 0):\n",
    "        print(\"Angka\", angka, \"bukan merupakan bilangan ganjil atau genap.\")\n",
    "if (angka < 0):\n",
    "        print(\"Harap masukkan angka positif.\")\n"
   ]
  },
  {
   "cell_type": "code",
   "execution_count": 132,
   "id": "bb1e304f",
   "metadata": {},
   "outputs": [
    {
     "name": "stdout",
     "output_type": "stream",
     "text": [
      "Program memilih rumus by AHYA\n",
      "masukkan pilihan rumus: eg. 1 untuk luas segitiga; 2 untuk luas persegi\n",
      "Pilih rumus : 1\n",
      "MENGHITUNG LUAS SEGITIGA\n",
      "masukkan nilai Panjang Alas : 8\n",
      "masukkan nilai Tinggi : 9.5\n",
      "LUAS SEGITIGA :  38.0\n"
     ]
    }
   ],
   "source": [
    "print(\"Program memilih rumus by AHYA\")\n",
    "#Input Angka\n",
    "print(\"masukkan pilihan rumus: eg. 1 untuk luas segitiga; 2 untuk luas persegi\")\n",
    "angka = int(input(\"Pilih rumus : \"))\n",
    "#Pengecekan rumus\n",
    "if (angka == 1):\n",
    "    print(\"MENGHITUNG LUAS SEGITIGA\")\n",
    "    Panjang_Alas = float(input(\"masukkan nilai Panjang Alas : \"))\n",
    "    Tinggi = float(input(\"masukkan nilai Tinggi : \"))\n",
    "    sum1 = lambda Panjang_Alas, Tinggi: 0.5 * Panjang_Alas * Tinggi\n",
    "    print(\"LUAS SEGITIGA : \", sum1( Panjang_Alas, Tinggi ))\n",
    "if (angka == 2):\n",
    "    print(\"MENGHITUNG LUAS PERSEGI\")\n",
    "    Panjang_Alas = float(input(\"masukkan nilai Panjang Alas : \"))\n",
    "    Tinggi = float(input(\"masukkan nilai Tinggi : \"))\n",
    "    sum1 = lambda Panjang_Alas, Tinggi: Panjang_Alas * Tinggi\n",
    "    print(\"LUAS PERSEGI : \", sum1( Panjang_Alas, Tinggi ))\n",
    "if (angka <1):\n",
    "    print(\"silahkan masukkan rumus dengan benar\")\n",
    "if (angka >2):\n",
    "    print(\"silahkan masukkan rumus dengan benar\")    "
   ]
  },
  {
   "cell_type": "code",
   "execution_count": 131,
   "id": "749c709d",
   "metadata": {},
   "outputs": [
    {
     "name": "stdout",
     "output_type": "stream",
     "text": [
      "Program Menghitung hari by AHYA\n",
      "Masukkan Hari : 400\n",
      "Rincian Durasi:\n",
      "1 Tahun\n",
      "1 Bulan\n",
      "10 Hari\n"
     ]
    }
   ],
   "source": [
    "print(\"Program Menghitung hari by AHYA\")\n",
    "#Input Angka\n",
    "angka = int(input(\"Masukkan Hari : \"))\n",
    "Tahun = int(angka / 360)\n",
    "Bulan = int((angka/30)-(Tahun*12))\n",
    "Hari = int(angka-(Tahun*360)-(Bulan*30))\n",
    "print(\"Rincian Durasi:\")\n",
    "print(Tahun, \"Tahun\")\n",
    "print(Bulan, \"Bulan\")\n",
    "print(Hari, \"Hari\")"
   ]
  },
  {
   "cell_type": "code",
   "execution_count": null,
   "id": "61fca39e",
   "metadata": {},
   "outputs": [],
   "source": []
  }
 ],
 "metadata": {
  "kernelspec": {
   "display_name": "Python 3 (ipykernel)",
   "language": "python",
   "name": "python3"
  },
  "language_info": {
   "codemirror_mode": {
    "name": "ipython",
    "version": 3
   },
   "file_extension": ".py",
   "mimetype": "text/x-python",
   "name": "python",
   "nbconvert_exporter": "python",
   "pygments_lexer": "ipython3",
   "version": "3.9.12"
  }
 },
 "nbformat": 4,
 "nbformat_minor": 5
}
